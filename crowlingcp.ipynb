{
 "cells": [
  {
   "cell_type": "markdown",
   "metadata": {},
   "source": [
    "# 比價撿便宜的URL"
   ]
  },
  {
   "cell_type": "code",
   "execution_count": 1,
   "metadata": {
    "collapsed": true
   },
   "outputs": [],
   "source": [
    "from bs4 import BeautifulSoup\n",
    "import requests\n",
    "import unicodedata\n",
    "\n",
    "res=requests.get('https://www.lbj.tw/BJ/Query.aspx?k=%e9%a4%90%e5%8d%b7+%e7%89%9b%e6%8e%92&p=1')\n",
    "soup=BeautifulSoup(res.text,'lxml')\n",
    "y = soup.select('.disabled > a')\n",
    "n = int(str(y[1]).split('共')[1].split('頁')[0])\n",
    "lbjurl = \"\"\n",
    "for i in range(1,n+1):\n",
    "    res1=requests.get('https://www.lbj.tw/BJ/Query.aspx?k=%e9%a4%90%e5%8d%b7+%e7%89%9b%e6%8e%92&p=' + str(i))\n",
    "    soup1=BeautifulSoup(res1.text,'lxml')\n",
    "    a = soup1.select('.hh6 > a')\n",
    "    for row in a:\n",
    "        hrf = row['href']\n",
    "        lbjurl += hrf +'\\n'\n",
    "with open('123.txt', 'w') as f:\n",
    "    f.write(lbjurl)"
   ]
  },
  {
   "cell_type": "markdown",
   "metadata": {},
   "source": [
    "# 比價撿便宜的title"
   ]
  },
  {
   "cell_type": "code",
   "execution_count": 126,
   "metadata": {
    "collapsed": true
   },
   "outputs": [],
   "source": [
    "from bs4 import BeautifulSoup\n",
    "import requests\n",
    "import unicodedata\n",
    "res=requests.get('https://www.lbj.tw/BJ/Query.aspx?k=%e9%a4%90%e5%8d%b7+%e7%89%9b%e6%8e%92&p=1')\n",
    "soup=BeautifulSoup(res.text,'lxml')\n",
    "y = soup.select('.disabled > a')\n",
    "n = int(str(y[1]).split('共')[1].split('頁')[0])\n",
    "aa = []\n",
    "for i in range(1,n+1):\n",
    "    res1=requests.get('https://www.lbj.tw/BJ/Query.aspx?k=%e9%a4%90%e5%8d%b7+%e7%89%9b%e6%8e%92&p=' + str(i))\n",
    "    soup1=BeautifulSoup(res1.text,'lxml')\n",
    "    a = soup.select('.hh6 > a')\n",
    "    for row in a:\n",
    "        aa.append(row.text)\n",
    "with open(\"rr.txt\", \"w\", encoding=\"utf-8\") as f:\n",
    "    for a in aa:\n",
    "        f.write(a + '\\n') "
   ]
  },
  {
   "cell_type": "markdown",
   "metadata": {},
   "source": [
    "# 把title和URL合併"
   ]
  },
  {
   "cell_type": "code",
   "execution_count": 143,
   "metadata": {
    "collapsed": true
   },
   "outputs": [],
   "source": [
    "from bs4 import BeautifulSoup\n",
    "import requests\n",
    "import unicodedata\n",
    "\n",
    "res=requests.get('https://www.lbj.tw/BJ/Query.aspx?k=%e9%a4%90%e5%8d%b7+%e7%89%9b%e6%8e%92&p=1')\n",
    "soup=BeautifulSoup(res.text,'lxml')\n",
    "y = soup.select('.disabled > a')\n",
    "n = int(str(y[1]).split('共')[1].split('頁')[0])\n",
    "aa = []\n",
    "for i in range(1,n+1):\n",
    "    res1=requests.get('https://www.lbj.tw/BJ/Query.aspx?k=%e9%a4%90%e5%8d%b7+%e7%89%9b%e6%8e%92&p=' + str(i))\n",
    "    soup1=BeautifulSoup(res1.text,'lxml')\n",
    "    a = soup1.select('.hh6 > a')\n",
    "    for row in a:\n",
    "        hrf = row['href']\n",
    "        aa.append(hrf)\n",
    "        aa.append(row.text)\n",
    "with open(\"ut.txt\", \"w\", encoding=\"utf-8\") as f:\n",
    "    for a in aa:\n",
    "        f.write(a + '\\n') "
   ]
  },
  {
   "cell_type": "markdown",
   "metadata": {},
   "source": [
    "# 目前的產出程式結果"
   ]
  },
  {
   "cell_type": "code",
   "execution_count": 27,
   "metadata": {},
   "outputs": [],
   "source": [
    "from bs4 import BeautifulSoup\n",
    "import requests\n",
    "import unicodedata\n",
    "import datetime,time\n",
    "from datetime import date,datetime\n",
    "today = date.today().strftime('%Y-%m-%d')\n",
    "res=requests.get('https://www.lbj.tw/BJ/Query.aspx?k=%e9%a4%90%e5%8d%b7+%e7%89%9b%e6%8e%92&p=1')\n",
    "soup=BeautifulSoup(res.text,'lxml')\n",
    "y = soup.select('.disabled > a')\n",
    "n = int(str(y[1]).split('共')[1].split('頁')[0])\n",
    "## 以上是抓頁數\n",
    "##創造4個list分別裝href,title,price以及最後要輸出的樣式\n",
    "hli = []\n",
    "tli = []\n",
    "pli = []\n",
    "sli = []\n",
    "aa = []\n",
    "##for迴圈抓href,title,price\n",
    "for i in range(1,n+1):\n",
    "    res1=requests.get('https://www.lbj.tw/BJ/Query.aspx?k=%e9%a4%90%e5%8d%b7+%e7%89%9b%e6%8e%92&p=' + str(i))\n",
    "    soup1=BeautifulSoup(res1.text,'lxml')\n",
    "    a = soup1.select('.hh6 > a')\n",
    "    for row in a:\n",
    "        hrf = row['href']\n",
    "        hli.append(hrf)\n",
    "        title = row.text\n",
    "        tli.append(title)\n",
    "    for j in range(0,len(a)):\n",
    "        b = soup1.select_one('#MainContent_dlData_lblGP_' + str(j))\n",
    "        price = b.text.split('$')[1]\n",
    "        pli.append(price)\n",
    "        c = soup1.select_one('#MainContent_dlData_lblPF_' + str(j))\n",
    "        sale = c.text\n",
    "        sli.append(sale)\n",
    "##for迴圈把hli,tli,pli裡對應的href,title,price依照index放入aa\n",
    "for k in range(0,len(hli)):\n",
    "    aa.append(hli[k] + '\\n' + tli[k] + '\\n' + pli[k] + '\\n' + sli[k] + '\\n')\n",
    "    \n",
    "##儲存輸出    \n",
    "with open(\"utlv6\"+today+\".txt\", \"w\", encoding=\"utf-8\") as f:\n",
    "    for a in aa:\n",
    "        f.write(a + '\\n')"
   ]
  },
  {
   "cell_type": "code",
   "execution_count": 25,
   "metadata": {},
   "outputs": [
    {
     "data": {
      "text/plain": [
       "'2017/08/12'"
      ]
     },
     "execution_count": 25,
     "metadata": {},
     "output_type": "execute_result"
    }
   ],
   "source": [
    "import datetime,time\n",
    "from datetime import date,datetime\n",
    "date.today().strftime('%Y-%m-%d')"
   ]
  },
  {
   "cell_type": "code",
   "execution_count": 25,
   "metadata": {},
   "outputs": [
    {
     "data": {
      "text/plain": [
       "'『送3孔+西堤牛排餐券壹張』HP F890G前後雙錄行車紀錄器+GPS測速、保固12個月《S & S 桑尼的天空》 嘉義縣'"
      ]
     },
     "execution_count": 25,
     "metadata": {},
     "output_type": "execute_result"
    }
   ],
   "source": [
    "title"
   ]
  }
 ],
 "metadata": {
  "kernelspec": {
   "display_name": "Python 3",
   "language": "python",
   "name": "python3"
  },
  "language_info": {
   "codemirror_mode": {
    "name": "ipython",
    "version": 3
   },
   "file_extension": ".py",
   "mimetype": "text/x-python",
   "name": "python",
   "nbconvert_exporter": "python",
   "pygments_lexer": "ipython3",
   "version": "3.6.1"
  }
 },
 "nbformat": 4,
 "nbformat_minor": 2
}
