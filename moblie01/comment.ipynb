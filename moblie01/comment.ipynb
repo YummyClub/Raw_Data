{
 "cells": [
  {
   "cell_type": "code",
   "execution_count": 1,
   "metadata": {
    "collapsed": true,
    "scrolled": true
   },
   "outputs": [],
   "source": [
    "import requests\n",
    "from bs4 import BeautifulSoup\n",
    "import time\n",
    "\n",
    "for i in range(661,5771):\n",
    "    with open('D:\\Project_Image\\mobile01\\高雄\\{}.html'.format(i), 'r', encoding='UTF-8') as f:\n",
    "        #從內容頁檔案把資料html檔讀出來\n",
    "        info = f.read()\n",
    "        soup = BeautifulSoup(info, 'lxml')\n",
    "        totalpage = int(soup.select('.contentfoot > p')[0].text.split('共')[1].split('頁')[0])\n",
    "        #取得總頁數\n",
    "        if totalpage >= 2:        \n",
    "            for j in range(2, totalpage+1):\n",
    "                url = \"https://www.mobile01.com/\"+soup.select('.pagination > a')[4]['href'].rstrip('2').rstrip('3')+str(j)\n",
    "                #取得內容頁內層其他頁數網址\n",
    "                res = requests.get(url)\n",
    "                with open('D:\\Project_Image\\mobile01\\高雄\\{}-{}.html'.format(i,j), 'w', encoding='UTF-8') as f:            \n",
    "                    f.write(res.text)\n",
    "                    f.close()\n",
    "                    time.sleep(10)\n",
    "        else:\n",
    "            pass\n",
    "        "
   ]
  },
  {
   "cell_type": "code",
   "execution_count": 107,
   "metadata": {
    "collapsed": true
   },
   "outputs": [],
   "source": [
    "with open('D:\\Project_Image\\mobile01\\台北\\{}.html'.format(10618), 'r', encoding='UTF-8') as f:\n",
    "        info = f.read()\n",
    "        soup = BeautifulSoup(info, 'lxml')\n",
    "        totalpage = int(soup.select('.contentfoot > p')[0].text.split('共')[1].split('頁')[0])       "
   ]
  },
  {
   "cell_type": "code",
   "execution_count": 108,
   "metadata": {},
   "outputs": [
    {
     "data": {
      "text/plain": [
       "2"
      ]
     },
     "execution_count": 108,
     "metadata": {},
     "output_type": "execute_result"
    }
   ],
   "source": [
    "#url = \"https://www.mobile01.com/\"+soup.select('.pagination > a')[4]['href'].rstrip('2').rstrip('3')\n",
    "totalpage"
   ]
  },
  {
   "cell_type": "code",
   "execution_count": 68,
   "metadata": {
    "scrolled": false
   },
   "outputs": [
    {
     "name": "stdout",
     "output_type": "stream",
     "text": [
      "2\n",
      "3\n",
      "4\n",
      "5\n",
      "6\n",
      "7\n",
      "8\n",
      "9\n",
      "10\n",
      "11\n",
      "12\n",
      "13\n",
      "14\n",
      "15\n",
      "16\n",
      "17\n",
      "18\n",
      "19\n",
      "20\n",
      "21\n",
      "22\n",
      "23\n",
      "24\n",
      "25\n",
      "26\n",
      "27\n",
      "28\n",
      "29\n",
      "30\n",
      "31\n",
      "32\n",
      "33\n",
      "34\n",
      "35\n",
      "36\n",
      "37\n",
      "38\n",
      "39\n",
      "40\n",
      "41\n",
      "42\n",
      "43\n",
      "44\n",
      "45\n",
      "46\n",
      "47\n",
      "48\n",
      "49\n",
      "50\n",
      "51\n",
      "52\n",
      "53\n",
      "54\n",
      "55\n",
      "56\n",
      "57\n",
      "58\n",
      "59\n",
      "60\n",
      "61\n",
      "62\n",
      "63\n",
      "64\n",
      "65\n",
      "66\n",
      "67\n",
      "68\n",
      "69\n",
      "70\n",
      "71\n",
      "72\n",
      "73\n",
      "74\n",
      "75\n",
      "76\n",
      "77\n",
      "78\n",
      "79\n",
      "80\n",
      "81\n",
      "82\n",
      "83\n",
      "84\n",
      "85\n",
      "86\n",
      "87\n",
      "88\n",
      "89\n",
      "90\n",
      "91\n",
      "92\n",
      "93\n",
      "94\n",
      "95\n",
      "96\n",
      "97\n",
      "98\n",
      "99\n",
      "100\n",
      "101\n",
      "102\n",
      "103\n",
      "104\n",
      "105\n",
      "106\n",
      "107\n",
      "108\n"
     ]
    }
   ],
   "source": [
    "for j in range(2, totalpage+1):\n",
    "    print(j)"
   ]
  },
  {
   "cell_type": "code",
   "execution_count": 55,
   "metadata": {
    "collapsed": true
   },
   "outputs": [],
   "source": [
    "url = \"https://www.mobile01.com/\"+soup.select('.pagination > a')[3]['href'].rstrip('2')+str(2)\n",
    "res = requests.get(url)\n",
    "soup = BeautifulSoup(res.text, 'lxml')"
   ]
  },
  {
   "cell_type": "code",
   "execution_count": 81,
   "metadata": {
    "collapsed": true
   },
   "outputs": [],
   "source": [
    "with open('D:\\Project_Image\\mobile01\\台北\\{}-{}.html'.format(21,10), 'r', encoding='UTF-8') as f:\n",
    "    info = f.read()\n",
    "    soup = BeautifulSoup(info, 'lxml')   "
   ]
  },
  {
   "cell_type": "code",
   "execution_count": 82,
   "metadata": {},
   "outputs": [
    {
     "data": {
      "text/plain": [
       "[<div class=\"single-post-content\">\n",
       " <div id=\"ct65307903\"><br/>\n",
       " <blockquote><b>firefalcon wrote:</b><br/>\n",
       " \n",
       " 又難得看到柳家涼麵的支持者了...<br/>\n",
       " \n",
       " 無意冒犯, 只是吃了幾次, 始終覺得柳家涼麵的麵體乾燥無彈性的偏硬, 麻醬稀薄無味, 辣油也沒有香氣層次, 味噌湯就味噌湯, 豬肝湯也沒有特別突出...<br/>\n",
       " \n",
       " 蒜味? 這不是大部分有提供蒜泥的涼麵店都可以請老闆多加兩匙達成?<br/>\n",
       " \n",
       " 我是真的好奇想請教, 柳家涼麵到底要怎麼吃會讓人覺得好吃?<br/>\n",
       " \n",
       " 謝謝...<br/>\n",
       " </blockquote><br/>\n",
       " <br/>\n",
       " \n",
       " 1、您所謂的「麵體乾燥無彈性的偏硬」，以我的個人角度來說，就是硬Q、有彈性，我個人就是喜歡這樣的麵體，所以總是覺得別家的麵體太軟。<br/>\n",
       " <br/>\n",
       " \n",
       " 2、您所謂的「麻醬稀薄無味」，以我個人的角度，就是蒜味濃厚、香，在涼麵來說，算是獨樹一格，所以我就是喜歡這樣的蒜味麻醬。至於您提到，可以加蒜泥，我個人覺得味道不一樣。<br/>\n",
       " <br/>\n",
       " \n",
       " 3、您提到的「味噌湯就味噌湯, 豬肝湯也沒有特別突出」，這在100家涼麵店裡面，大概有90家都是這樣的，因為很少以湯頭作為賣點的涼麵店，目前我只覺得戴記的湯頭獨樹一格。<br/>\n",
       " <br/>\n",
       " \n",
       " 所以總結的來說，我個人非常喜歡柳家，當然，相同的因素，喜歡軟麵、不喜歡蒜味的人，就會覺得柳家不好吃，這也是很自然的。</div>\n",
       " <div class=\"single-post-content-sig\"></div>\n",
       " </div>]"
      ]
     },
     "execution_count": 82,
     "metadata": {},
     "output_type": "execute_result"
    }
   ],
   "source": [
    " soup.select(\".single-post-content\")"
   ]
  }
 ],
 "metadata": {
  "kernelspec": {
   "display_name": "Python 3",
   "language": "python",
   "name": "python3"
  },
  "language_info": {
   "codemirror_mode": {
    "name": "ipython",
    "version": 3
   },
   "file_extension": ".py",
   "mimetype": "text/x-python",
   "name": "python",
   "nbconvert_exporter": "python",
   "pygments_lexer": "ipython3",
   "version": "3.6.1"
  }
 },
 "nbformat": 4,
 "nbformat_minor": 2
}
